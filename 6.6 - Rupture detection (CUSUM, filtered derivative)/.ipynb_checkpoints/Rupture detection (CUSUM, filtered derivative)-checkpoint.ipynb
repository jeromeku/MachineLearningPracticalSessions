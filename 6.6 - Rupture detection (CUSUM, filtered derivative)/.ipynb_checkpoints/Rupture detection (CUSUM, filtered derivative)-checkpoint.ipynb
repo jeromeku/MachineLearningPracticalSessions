{
 "cells": [
  {
   "cell_type": "code",
   "execution_count": 108,
   "metadata": {
    "collapsed": false
   },
   "outputs": [],
   "source": [
    "import matplotlib\n",
    "import matplotlib.pyplot as plt\n",
    "import pickle\n",
    "import numpy as np\n",
    "import pylab\n",
    "import scipy.stats\n",
    "%matplotlib inline\n",
    "pylab.rcParams['figure.figsize'] = (14.0, 8.0)"
   ]
  },
  {
   "cell_type": "markdown",
   "metadata": {},
   "source": [
    "# Seuil fixé"
   ]
  },
  {
   "cell_type": "code",
   "execution_count": 38,
   "metadata": {
    "collapsed": false
   },
   "outputs": [],
   "source": [
    "C = 0.5"
   ]
  },
  {
   "cell_type": "code",
   "execution_count": 6,
   "metadata": {
    "collapsed": false
   },
   "outputs": [],
   "source": [
    "data = pickle.load(open('cusum.pick','rb'))\n",
    "\n",
    "# print data[0]['cpIndex']\n",
    "# print len(data)\n",
    "\n",
    "data = data[1]\n",
    "\n",
    "signal = data['signal']\n",
    "mu0 = data['mu0']\n",
    "mu1 = data['mu1']\n",
    "sigma0 = data['sigma0']\n",
    "sigma1 = data['sigma1']\n"
   ]
  },
  {
   "cell_type": "code",
   "execution_count": 130,
   "metadata": {
    "collapsed": false
   },
   "outputs": [],
   "source": [
    "def calculDifference(A1, A2, signal):\n",
    "    n = len(signal)\n",
    "    \n",
    "    D = np.zeros((n,))\n",
    "    D[:] = np.NAN\n",
    "\n",
    "    # for i, k in enumerate(range(A1, n - A2 + 1)):\n",
    "    for k in range(A1, n - A2 + 1):\n",
    "        D[k] = np.abs(np.mean(signal[k:k+A2]) - np.mean(signal[k-A1:k]))\n",
    "    \n",
    "    return D\n",
    "\n",
    "D = calculDifference(5, 5, signal)"
   ]
  },
  {
   "cell_type": "code",
   "execution_count": 131,
   "metadata": {
    "collapsed": false
   },
   "outputs": [
    {
     "data": {
      "text/plain": [
       "<Container object of 3 artists>"
      ]
     },
     "execution_count": 131,
     "metadata": {},
     "output_type": "execute_result"
    },
    {
     "data": {
      "image/png": "[encoded data removed]",
      "text/plain": [
       "<matplotlib.figure.Figure at 0xb101550>"
      ]
     },
     "metadata": {},
     "output_type": "display_data"
    }
   ],
   "source": [
    "def detectionRupture(D, C):\n",
    "    zonesRupture = np.greater(D, C)\n",
    "    pointsRupture = []\n",
    "    \n",
    "    ruptStart = 0;\n",
    "    for i in range(1, len(zonesRupture)):\n",
    "        if zonesRupture[i] == 1 and zonesRupture[i-1] == 0:\n",
    "            ruptStart = i\n",
    "        elif zonesRupture[i] == 0 and zonesRupture[i-1] == 1:\n",
    "            pointsRupture.append(ruptStart + np.argmax(D[ruptStart:i+1]))\n",
    "\n",
    "    return (zonesRupture, pointsRupture)\n",
    "\n",
    "(zonesRupture, pointsRupture) = detectionRupture(D, C)\n",
    "\n",
    "plt.plot(D)\n",
    "plt.stem(pointsRupture, np.ones((len(pointsRupture),)), '-.r')"
   ]
  },
  {
   "cell_type": "markdown",
   "metadata": {},
   "source": [
    "# Recherche seuil C"
   ]
  },
  {
   "cell_type": "code",
   "execution_count": 132,
   "metadata": {
    "collapsed": false
   },
   "outputs": [],
   "source": [
    "def calculMsRandperm(A1, A2, signal, n):\n",
    "    Ms = np.zeros((n,))\n",
    "\n",
    "    for i in range(n):\n",
    "        signalPerm = np.random.permutation(signal)\n",
    "        Ms[i] = np.nanmax(calculDifference(A1, A2, signalPerm))\n",
    "\n",
    "    return Ms\n",
    "\n",
    "Ms = calculMsRandperm(5, 5, signal, 1000)"
   ]
  },
  {
   "cell_type": "code",
   "execution_count": 124,
   "metadata": {
    "collapsed": false
   },
   "outputs": [],
   "source": [
    "def findC(Ms, p):\n",
    "    return scipy.stats.norm.ppf(1 - p,loc=np.mean(Ms), scale=np.std(Ms))"
   ]
  },
  {
   "cell_type": "code",
   "execution_count": 134,
   "metadata": {
    "collapsed": false
   },
   "outputs": [
    {
     "data": {
      "text/plain": [
       "0.75610451838606951"
      ]
     },
     "execution_count": 134,
     "metadata": {},
     "output_type": "execute_result"
    }
   ],
   "source": [
    "C = findC(Ms, 0.1)\n",
    "\n",
    "D = calculDifference(10, 10, signal)\n",
    "(zonesRupture, pointsRupture) = detectionRupture(D, C)\n",
    "pointsRupture\n",
    "C"
   ]
  }
 ],
 "metadata": {
  "kernelspec": {
   "display_name": "Python 2",
   "language": "python",
   "name": "python2"
  },
  "language_info": {
   "codemirror_mode": {
    "name": "ipython",
    "version": 2
   },
   "file_extension": ".py",
   "mimetype": "text/x-python",
   "name": "python",
   "nbconvert_exporter": "python",
   "pygments_lexer": "ipython2",
   "version": "2.7.9"
  }
 },
 "nbformat": 4,
 "nbformat_minor": 0
}
